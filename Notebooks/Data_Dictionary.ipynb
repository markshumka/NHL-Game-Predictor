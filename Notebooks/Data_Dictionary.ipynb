{
 "cells": [
  {
   "cell_type": "markdown",
   "id": "fb7d8fba-f566-4802-ae69-ec180a544f45",
   "metadata": {},
   "source": [
    "## Data Dictionary"
   ]
  },
  {
   "cell_type": "markdown",
   "id": "085102a9-0c37-4421-98a2-09ee21c2219c",
   "metadata": {},
   "source": [
    "This is the initial data dictionary. It is not exhaustive, as some variables exist in both 'For' (i.e., statistics for the team in the row) and 'Against' (i.e., statistics for the opposing) versions. For more information, see [Moneypuck.com](https://moneypuck.com/glossary.htm)"
   ]
  },
  {
   "cell_type": "markdown",
   "id": "d0ac825e-694b-4b6d-b1c9-ccdb48c8200b",
   "metadata": {},
   "source": [
    "#### Dependent Variable"
   ]
  },
  {
   "cell_type": "markdown",
   "id": "d91537b4-1478-4ef2-a257-c63c603d9b61",
   "metadata": {},
   "source": [
    "`won`: Whether the team won or lost."
   ]
  },
  {
   "cell_type": "markdown",
   "id": "9b59398e-1ba2-40bf-85b5-de678a36a67b",
   "metadata": {},
   "source": [
    "#### Independent Variables"
   ]
  },
  {
   "cell_type": "markdown",
   "id": "71e95177-f779-42c8-94f5-51b4fd688ceb",
   "metadata": {},
   "source": [
    "`season`: The year in which a particular season started<br>\n",
    "`gameId`: A unique identifier for each game<br>\n",
    "`team_x`: The 3-letter abbreviation for the team<br>\n",
    "`opposingTeam`: The 3-letter abbreviation for the team playing the team referenced in the 'team' column<br>\n",
    "`home_or_away`: A binary variable indicating whether the team is playing in its home city or not<br>\n",
    "`gameDate`: The date of the game<br>\n",
    "`team_id`: Numerical ID of the team<br>\n",
    "`goals`: Team goals scored<br>\n",
    "`powerPlayOpportunities`: Number of times with a man advantage<br>\n",
    "`powerPlayGoals`: Number of goals scored with a man advantage<br>\n",
    "`xGoalsFor`: Expected goals. The sum of the probabilities of unblocked shot attempts being goals. For example, a rebound shot in the slot may be worth 0.5 expected goals, while a shot from the blueline while short handed may be worth 0.01 expected goals. The expected value of each shot attempt is calculated by the MoneyPuck Expected Goals model. Expected goals is commonly abbreviated as \"xGoals\". Blocked shot attempts are valued at 0 xGoals.<br>\n",
    "`xGoalsPercentage`: xGoalsFor / (xGoalsFor + xGoalsAgainst)<br>\n",
    "`corsiPercentage`: Corsi is a measure of shots on goal + missed shots + blocked shots. Corsi percentage is the percent Corsi for the team relative to the opposing team.<br>\n",
    "`fenwickPercentage`: Similar to Corsi, but does not include blocked shots<br>\n",
    "`goalsFor`: Goals scored by the team<br>\n",
    "`goalsAgainst`: Goals scored by the opposing team<br>\n",
    "`shotsOnGoalFor`: Shots on goal<br>\n",
    "`xOnGoalFor`: Expected shots on goal.<br>\n",
    "`xReboundsFor`: The probability that a shot will generate a rebound.<br>\n",
    "`xFreezeFor`: Expected puck freezes after shots. The expected number of puck freezes by the goalie after the player's unblocked shot attempts.<br>\n",
    "`xPlayStoppedFor`: Expected number of times the play is stopped after shots for reasons other than the goalie freezing the puck, such as the puck going over the glass or a dislodged net.<br>\n",
    "`xPlayContinuedInZoneFor`: Expected number of times the play continues in the offensive zone after the player's shot besides an immediate rebound shot. This is proxied by another event happening in the zone after the shot (such as a hit, takeaway, etc) without any events outside of the zone happening inbetween and all the same players for both teams are still on the ice as they were for the original shot<br>\n",
    "`xPlayContinuedOutsideZoneFor`: Expected number of times the play goes outside the offensive zone after the player's shot. <br>\n",
    "`flurryAdjustedxGoalsFor`: Flurry adjusted expected goals is a statistic that discounts the expected goal value of the 2nd, 3rd, 4th, etc shots in a flurry of shots. These shots are discounted because they only had the opportunity to occur because the team did not score on a previous shot.<br>\n",
    "`scoreVenueAdjustedxGoalsFor`: Score and Venue Adjusted xGoals. Gives more credit to away teams and teams with large leads when they get an xGoal.<br>\n",
    "`flurryScoreVenueAdjustedxGoalsFor`: Flurry and Score and Venued Adjusted xGoals<br>\n",
    "`missedShotsFor`: Attempted shots that missed the goal<br>\n",
    "`blockedShotAttemptsFor`: Number of attempted shots blocked by the other team<br>\n",
    "`shotAttemptsFor`: Shots on goal + missed shots + blocked shots<br>\n",
    "`reboundsFor`: A shot made immediately after a blocked or missed shot<br>\n",
    "`reboundGoalsFor`: Goals scored on rebounds<br>\n",
    "`freezeFor`: Puck freezes after a player's shots. The  number of puck freezes by  goalies after the player's unblocked shot attempts.<br>\n",
    "`playStoppedFor`: Number of times the play is stopped after shots for reasons other than the goalie freezing the puck, such as the puck going over the glass or a dislodged net.<br>\n",
    "`playContinuedInZoneFor`: Number of times the play continues in the offensive zone after the player's shot besides an immediate rebound shot. This is proxied by another event happening in the zone after the shot (such as a hit, takeaway, etc) without any events outside of the zone happening inbetween and all the same players for both teams are still on the ice as they were for the original shot<br>\n",
    "`playContinuedOutsideZoneFor`: Number of times the play goes outside the offensive zone after the player's shot. <br>\n",
    "`savedShotsOnGoalFor`: Number of the player's unblocked shots that were saved by the goalie<br>\n",
    "`savedUnblockedShotAttemptsFor`: Number of the player's unblocked shots that were saved by the goalie or missed the net<br>\n",
    "`penaltiesFor`: Number of penalties taken<br>\n",
    "`penalityMinutesFor`: Number of minutes of penalties served<br>\n",
    "`faceOffsWonFor`: Faceoffs won<br>\n",
    "`hitsFor`: Hits<br>\n",
    "`takeawaysFor`: Number of times puck stolen from the other team<br>\n",
    "`giveawaysFor`: Number of times puck given away to the other team<br>\n",
    "`lowDangerShotsFor`: Unblocked Shot attempts with a < 8% probability of being a goal. Low danger shots accounts for ~75% of shots and ~33% of goals<br>\n",
    "`mediumDangerShotsFor`: Unblocked Shot attempts with between >=8% but less than 20% probability of being a goal. Medium danger shots account for ~20% of shots and ~33% of goals<br>\n",
    "`highDangerShotsFor`: Unblocked Shot attempts  with >= 20% probability of being a goal. High danger shots account for ~5% of shots and ~33% of goals<br>\n",
    "`lowDangerxGoalsFor`: Expected goals from low danger shots<br>\n",
    "`mediumDangerxGoalsFor`: Expected goals from medium danger shots<br>\n",
    "`highDangerxGoalsFor`: Expected goals from high danger shots<br>\n",
    "`lowDangerGoalsFor`: Actual goals from low danger shots<br>\n",
    "`mediumDangerGoalsFor`: Actual goals from medium danger shots<br>\n",
    "`highDangerGoalsFor`: Actual goals from high danger shots<br>\n",
    "`scoreAdjustedShotsAttemptsFor`: Shot attempts adjusted for score and venue<br>\n",
    "`unblockedShotAttemptsFor`: All shot attempts that weren't blocked<br>\n",
    "`scoreAdjustedUnblockedShotAttemptsFor`: Unblocked shot attempts adjusted for score and venue<br>\n",
    "`dZoneGiveawaysFor`: Giveaways in the defensive zone<br>\n",
    "`xGoalsFromxReboundsOfShotsFor`: Expected Goals from Expected Rebounds of player's shots. Even if a shot does not actually generate a rebound, if it's a shot that is likely to generate a rebound the player is credited with xGoalsFromxRebounds<br>\n",
    "`xGoalsFromActualReboundsOfShotsFor`: Expected Goals from actual rebounds shots of player's shots. <br>\n",
    "`reboundxGoalsFor`: Expected Goal on rebound shots<br>\n",
    "`xOnGoalAgainst`: Expected shots on goal for the opposing team<br>\n",
    "`xGoalsAgainst`: Expected goals for the opposing team<br>\n",
    "`shotsOnGoalAgainst`: Shots on goal by the other team<br>\n",
    "`missedShotsAgainst`: Attempted shots by the other team that missed the goal<br>\n",
    "`blockedShotAttemptsAgainst`: Number of attempted shots by the other team blocked by the team<br>\n",
    "`shotAttemptsAgainst`: Shots on goal + missed shots + blocked shots by the other team<br>\n",
    "`reboundsAgainst`: A shot madeby the opposing team immediately after a blocked or missed shot<br>\n",
    "`reboundGoalsAgainst`: Opposing team goals scored on rebounds<br>\n",
    "`savedShotsOnGoalAgainst`: Saves<br>\n",
    "`penaltiesAgainst`: Number of penalties taken by the opposing team<br>\n",
    "`penalityMinutesAgainst`: Number of minutes of penalties served by the opposing team<br>\n",
    "`faceOffsWonAgainst`: Faceoffs won by the opposing team<br>\n",
    "`hitsAgainst`: Hits by the opposing team<br>\n",
    "`takeawaysAgainst`: Number of times opposing team stole the puck<br>\n",
    "`giveawaysAgainst`: Number of times opposing team gave the puck away <br>\n",
    "`lowDangerShotsAgainst`: Opponent low danger shots<br>\n",
    "`mediumDangerShotsAgainst`: Opponent medium danger shots<br>\n",
    "`highDangerShotsAgainst`: Opponent high danger shots<br>\n",
    "`lowDangerxGoalsAgainst`: Expected opponent low danger goals<br>\n",
    "`mediumDangerxGoalsAgainst`: Expected opponent medium danger goals<br>\n",
    "`highDangerxGoalsAgainst`: Expected opponent high danger goals<br>\n",
    "`lowDangerGoalsAgainst`: Actual opponent low danger goals<br>\n",
    "`mediumDangerGoalsAgainst`: Actual opponent medium danger goals<br>\n",
    "`highDangerGoalsAgainst`: Actual opponent high danger goals<br>\n"
   ]
  }
 ],
 "metadata": {
  "kernelspec": {
   "display_name": "Python 3 (ipykernel)",
   "language": "python",
   "name": "python3"
  },
  "language_info": {
   "codemirror_mode": {
    "name": "ipython",
    "version": 3
   },
   "file_extension": ".py",
   "mimetype": "text/x-python",
   "name": "python",
   "nbconvert_exporter": "python",
   "pygments_lexer": "ipython3",
   "version": "3.9.18"
  }
 },
 "nbformat": 4,
 "nbformat_minor": 5
}
